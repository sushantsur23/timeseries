{
 "cells": [
  {
   "cell_type": "markdown",
   "metadata": {},
   "source": [
    "# Pandas | Basic of Time Series Manipulation"
   ]
  },
  {
   "cell_type": "markdown",
   "metadata": {},
   "source": [
    "In this module of Pandas, we can include the date and time for every record and can fetch the records of dataframe. We can find out the data within a certain range of date and time by using pandas module named Time series. Let’s discuss some major objectives to introduce the pandas time series analysis.\n",
    "\n",
    "Objectives of time series analysis\n",
    " \n",
    ". Create the series of date\n",
    ". Work with data timestamp\n",
    ". Convert string data to timestamp\n",
    ". Slicing of data using timestamp\n",
    ". Resample your time series for different time period aggregates/summary statistics\n",
    ". Working with missing data"
   ]
  },
  {
   "cell_type": "code",
   "execution_count": 2,
   "metadata": {},
   "outputs": [
    {
     "name": "stdout",
     "output_type": "stream",
     "text": [
      "DatetimeIndex(['2019-01-01 00:00:00', '2019-01-01 00:01:00',\n",
      "               '2019-01-01 00:02:00', '2019-01-01 00:03:00',\n",
      "               '2019-01-01 00:04:00', '2019-01-01 00:05:00',\n",
      "               '2019-01-01 00:06:00', '2019-01-01 00:07:00',\n",
      "               '2019-01-01 00:08:00', '2019-01-01 00:09:00',\n",
      "               ...\n",
      "               '2019-01-07 23:51:00', '2019-01-07 23:52:00',\n",
      "               '2019-01-07 23:53:00', '2019-01-07 23:54:00',\n",
      "               '2019-01-07 23:55:00', '2019-01-07 23:56:00',\n",
      "               '2019-01-07 23:57:00', '2019-01-07 23:58:00',\n",
      "               '2019-01-07 23:59:00', '2019-01-08 00:00:00'],\n",
      "              dtype='datetime64[ns]', length=10081, freq='T')\n"
     ]
    }
   ],
   "source": [
    "\n",
    "import pandas as pd\n",
    "from datetime import datetime\n",
    "import numpy as np\n",
    " \n",
    "range_date = pd.date_range(start ='1/1/2019', end ='1/08/2019',\n",
    "                                                   freq ='Min')\n",
    "print(range_date)"
   ]
  },
  {
   "cell_type": "markdown",
   "metadata": {},
   "source": [
    "### We are checking the type of our object named range_date. "
   ]
  },
  {
   "cell_type": "code",
   "execution_count": 3,
   "metadata": {},
   "outputs": [
    {
     "name": "stdout",
     "output_type": "stream",
     "text": [
      "<class 'pandas._libs.tslibs.timestamps.Timestamp'>\n"
     ]
    }
   ],
   "source": [
    "import pandas as pd\n",
    "from datetime import datetime\n",
    "import numpy as np\n",
    " \n",
    "range_date = pd.date_range(start ='1/1/2019', end ='1/08/2019',\n",
    "                                                   freq ='Min')\n",
    "print(type(range_date[110]))"
   ]
  },
  {
   "cell_type": "markdown",
   "metadata": {},
   "source": [
    "### Converted data into a data frame format nad adding one more new column to the data"
   ]
  },
  {
   "cell_type": "code",
   "execution_count": 4,
   "metadata": {},
   "outputs": [
    {
     "name": "stdout",
     "output_type": "stream",
     "text": [
      "                 date  data\n",
      "0 2019-01-01 00:00:00    33\n",
      "1 2019-01-01 00:01:00    99\n",
      "2 2019-01-01 00:02:00    36\n",
      "3 2019-01-01 00:03:00    17\n",
      "4 2019-01-01 00:04:00    92\n",
      "5 2019-01-01 00:05:00    31\n",
      "6 2019-01-01 00:06:00    10\n",
      "7 2019-01-01 00:07:00     5\n",
      "8 2019-01-01 00:08:00    50\n",
      "9 2019-01-01 00:09:00    42\n"
     ]
    }
   ],
   "source": [
    "import pandas as pd\n",
    "from datetime import datetime\n",
    "import numpy as np\n",
    " \n",
    "range_date = pd.date_range(start ='1/1/2019', end ='1/08/2019',\n",
    "                                                   freq ='Min')\n",
    " \n",
    "df = pd.DataFrame(range_date, columns =['date'])\n",
    "df['data'] = np.random.randint(0, 100, size =(len(range_date)))\n",
    " \n",
    "print(df.head(10))"
   ]
  },
  {
   "cell_type": "markdown",
   "metadata": {},
   "source": [
    "### This code just use the elements of data_rng and converted to string and due to lot of data we slice the data and print first ten values list string_data. By using the for each loop in list, we got all the values that are in the series range_date. When we are using date_range we always have to specify the start and end date."
   ]
  },
  {
   "cell_type": "code",
   "execution_count": 5,
   "metadata": {},
   "outputs": [
    {
     "name": "stdout",
     "output_type": "stream",
     "text": [
      "['2019-01-01 00:01:00', '2019-01-01 00:02:00', '2019-01-01 00:03:00', '2019-01-01 00:04:00', '2019-01-01 00:05:00', '2019-01-01 00:06:00', '2019-01-01 00:07:00', '2019-01-01 00:08:00', '2019-01-01 00:09:00', '2019-01-01 00:10:00']\n"
     ]
    }
   ],
   "source": [
    "import pandas as pd\n",
    "from datetime import datetime\n",
    "import numpy as np\n",
    " \n",
    "range_date = pd.date_range(start ='1/1/2019', end ='1/08/2019',\n",
    "                                                  freq ='Min')\n",
    " \n",
    "df = pd.DataFrame(range_date, columns =['date'])\n",
    "df['data'] = np.random.randint(0, 100, size =(len(range_date)))\n",
    " \n",
    "string_data = [str(x) for x in range_date]\n",
    "print(string_data[1:11])"
   ]
  },
  {
   "cell_type": "code",
   "execution_count": 7,
   "metadata": {},
   "outputs": [
    {
     "name": "stdout",
     "output_type": "stream",
     "text": [
      "                     data\n",
      "datetime                 \n",
      "2019-01-05 00:01:00    61\n",
      "2019-01-05 00:02:00    73\n",
      "2019-01-05 00:03:00    72\n",
      "2019-01-05 00:04:00    51\n",
      "2019-01-05 00:05:00    53\n",
      "2019-01-05 00:06:00    65\n",
      "2019-01-05 00:07:00    92\n",
      "2019-01-05 00:08:00    21\n",
      "2019-01-05 00:09:00    48\n",
      "2019-01-05 00:10:00    68\n"
     ]
    },
    {
     "name": "stderr",
     "output_type": "stream",
     "text": [
      "c:\\Users\\susha\\miniconda3\\envs\\adhoc\\lib\\site-packages\\ipykernel_launcher.py:16: FutureWarning: Indexing a DataFrame with a datetimelike index using a single string to slice the rows, like `frame[string]`, is deprecated and will be removed in a future version. Use `frame.loc[string]` instead.\n",
      "  \n"
     ]
    }
   ],
   "source": [
    "\n",
    "from ipykernel import kernelapp as app\n",
    "import pandas as pd\n",
    "from datetime import datetime\n",
    "import numpy as np\n",
    " \n",
    "range_data = pd.date_range(start ='1/1/2019', end ='1/08/2019',\n",
    "                                                  freq ='Min')\n",
    " \n",
    "df = pd.DataFrame(range_data, columns =['date'])\n",
    "df['data'] = np.random.randint(0, 100, size =(len(range_data)))\n",
    " \n",
    "df['datetime'] = pd.to_datetime(df['date'])\n",
    "df = df.set_index('datetime')\n",
    "df.drop(['date'], axis = 1, inplace = True)\n",
    " \n",
    "print(df['2019-01-05'][1:11])"
   ]
  },
  {
   "cell_type": "markdown",
   "metadata": {},
   "source": [
    "Python function created to find the number of data between two dates"
   ]
  },
  {
   "cell_type": "code",
   "execution_count": 1,
   "metadata": {},
   "outputs": [
    {
     "name": "stdout",
     "output_type": "stream",
     "text": [
      "74 days\n"
     ]
    }
   ],
   "source": [
    "\n",
    "# Python3 program two find number of\n",
    "# days between two given dates\n",
    " \n",
    "# A date has day 'd', month 'm' and year 'y'\n",
    " \n",
    "class Date:\n",
    "    def __init__(self, d, m, y):\n",
    "        self.d = d\n",
    "        self.m = m\n",
    "        self.y = y\n",
    " \n",
    " \n",
    "# To store number of days in all months from\n",
    "# January to Dec.\n",
    "monthDays = [31, 28, 31, 30, 31, 30,\n",
    "             31, 31, 30, 31, 30, 31]\n",
    " \n",
    "# This function counts number of leap years\n",
    "# before the given date\n",
    " \n",
    "def countLeapYears(d):\n",
    " \n",
    "    years = d.y\n",
    " \n",
    "    # Check if the current year needs to be considered\n",
    "    # for the count of leap years or not\n",
    "    if (d.m <= 2):\n",
    "        years -= 1\n",
    " \n",
    "    # An year is a leap year if it is a multiple of 4,\n",
    "    # multiple of 400 and not a multiple of 100.\n",
    "    return int(years / 4) - int(years / 100) + int(years / 400)\n",
    " \n",
    " \n",
    "# This function returns number of days between two\n",
    "# given dates\n",
    "def getDifference(dt1, dt2):\n",
    " \n",
    "    # COUNT TOTAL NUMBER OF DAYS BEFORE FIRST DATE 'dt1'\n",
    " \n",
    "    # initialize count using years and day\n",
    "    n1 = dt1.y * 365 + dt1.d\n",
    " \n",
    "    # Add days for months in given date\n",
    "    for i in range(0, dt1.m - 1):\n",
    "        n1 += monthDays[i]\n",
    " \n",
    "    # Since every leap year is of 366 days,\n",
    "    # Add a day for every leap year\n",
    "    n1 += countLeapYears(dt1)\n",
    " \n",
    "    # SIMILARLY, COUNT TOTAL NUMBER OF DAYS BEFORE 'dt2'\n",
    " \n",
    "    n2 = dt2.y * 365 + dt2.d\n",
    "    for i in range(0, dt2.m - 1):\n",
    "        n2 += monthDays[i]\n",
    "    n2 += countLeapYears(dt2)\n",
    " \n",
    "    # return difference between two counts\n",
    "    return (n2 - n1)\n",
    " \n",
    " \n",
    "# Driver program\n",
    "dt1 = Date(13, 12, 2018)\n",
    "dt2 = Date(25, 2, 2019)\n",
    " \n",
    "print(getDifference(dt1, dt2), \"days\")"
   ]
  },
  {
   "cell_type": "code",
   "execution_count": 8,
   "metadata": {},
   "outputs": [
    {
     "name": "stdout",
     "output_type": "stream",
     "text": [
      "74 days\n"
     ]
    }
   ],
   "source": [
    "# Python3 program to find number of days\n",
    "# between two given dates\n",
    "from datetime import date\n",
    " \n",
    "def numOfDays(date1, date2):\n",
    "    return (date2-date1).days\n",
    "     \n",
    "# Driver program\n",
    "date1 = date(2018, 12, 13)\n",
    "date2 = date(2019, 2, 25)\n",
    "print(numOfDays(date1, date2), \"days\")"
   ]
  },
  {
   "cell_type": "markdown",
   "metadata": {},
   "source": [
    "To find the difference between two dates in Python, one can use the timedelta class which is present in the datetime library. The timedelta class stores the difference between two datetime objects. \n",
    "To find the difference between two dates in form of minutes, the attribute seconds of timedelta object can be used which can be further divided by 60 to convert to minutes."
   ]
  },
  {
   "cell_type": "code",
   "execution_count": 9,
   "metadata": {},
   "outputs": [
    {
     "name": "stdout",
     "output_type": "stream",
     "text": [
      "Difference:  36 days, 10:04:20\n",
      "Total difference in minutes:  52444.333333333336\n",
      "Difference in minutes:  604.3333333333334\n"
     ]
    }
   ],
   "source": [
    "import datetime\n",
    "\n",
    "# datetime(year, month, day, hour, minute, second)\n",
    "a = datetime.datetime(2017, 6, 21, 18, 25, 30)\n",
    "b = datetime.datetime(2017, 5, 16, 8, 21, 10)\n",
    "\n",
    "# returns a timedelta object\n",
    "c = a-b\n",
    "print('Difference: ', c)\n",
    "\n",
    "minutes = c.total_seconds() / 60\n",
    "print('Total difference in minutes: ', minutes)\n",
    "\n",
    "# returns the difference of the time of the day\n",
    "minutes = c.seconds / 60\n",
    "print('Difference in minutes: ', minutes)\n"
   ]
  },
  {
   "cell_type": "markdown",
   "metadata": {},
   "source": [
    "#### To get a more appropriate answer divmod() can be used which will return the fractional part of the minutes in terms of seconds"
   ]
  },
  {
   "cell_type": "code",
   "execution_count": 2,
   "metadata": {},
   "outputs": [
    {
     "name": "stdout",
     "output_type": "stream",
     "text": [
      "Difference:  36 days, 10:04:20\n",
      "Total difference in minutes:  52444.0 minutes 20.0 seconds\n",
      "Total difference in minutes:  604 minutes 20 seconds\n"
     ]
    }
   ],
   "source": [
    "import datetime\n",
    "\n",
    "# datetime(year, month, day, hour, minute, second)\n",
    "a = datetime.datetime(2017, 6, 21, 18, 25, 30)\n",
    "b = datetime.datetime(2017, 5, 16, 8, 21, 10)\n",
    "\n",
    "# returns a timedelta object\n",
    "c = a-b\n",
    "print('Difference: ', c)\n",
    "\n",
    "# returns (minutes, seconds)\n",
    "minutes = divmod(c.total_seconds(), 60)\n",
    "print('Total difference in minutes: ', minutes[0], 'minutes',minutes[1], 'seconds')\n",
    "\n",
    "# returns the difference of the time of the day (minutes, seconds)\n",
    "minutes = divmod(c.seconds, 60)\n",
    "print('Total difference in minutes: ', minutes[0], 'minutes',minutes[1], 'seconds')\n"
   ]
  },
  {
   "cell_type": "markdown",
   "metadata": {},
   "source": [
    "#### Python timedelta() function is present under datetime library which is generally used for calculating differences in dates and also can be used for date manipulations in Python. It is one of the easiest ways to perform date manipulations."
   ]
  },
  {
   "cell_type": "code",
   "execution_count": 5,
   "metadata": {},
   "outputs": [
    {
     "name": "stdout",
     "output_type": "stream",
     "text": [
      "initial_date 2022-07-04 12:33:38.238458\n",
      "future_date_after_2yrs: 2024-07-03 12:33:38.238458\n",
      "future_date_after_2days: 2022-07-06 12:33:38.238458\n"
     ]
    }
   ],
   "source": [
    "# Timedelta function demonstration\n",
    "\n",
    "from datetime import datetime, timedelta\n",
    "\n",
    "\n",
    "# Using current time\n",
    "ini_time_for_now = datetime.now()\n",
    "\n",
    "# printing initial_date\n",
    "print (\"initial_date\", str(ini_time_for_now))\n",
    "\n",
    "# Calculating future dates\n",
    "# for two years\n",
    "future_date_after_2yrs = ini_time_for_now + timedelta(days = 730)\n",
    "\n",
    "future_date_after_2days = ini_time_for_now + timedelta(days = 2)\n",
    "\n",
    "# printing calculated future_dates\n",
    "print('future_date_after_2yrs:', str(future_date_after_2yrs))\n",
    "print('future_date_after_2days:', str(future_date_after_2days))\n"
   ]
  },
  {
   "cell_type": "code",
   "execution_count": 6,
   "metadata": {},
   "outputs": [
    {
     "name": "stdout",
     "output_type": "stream",
     "text": [
      "initial_date: 2022-07-04 12:33:55.010902\n",
      "past_date_before_2yrs: 2020-07-04 12:33:55.010902\n",
      "past_date_before_2hours: 2022-07-04 10:33:55.010902\n"
     ]
    }
   ],
   "source": [
    "# Timedelta function demonstration\n",
    "from datetime import datetime, timedelta\n",
    "\n",
    "\n",
    "# Using current time\n",
    "ini_time_for_now = datetime.now()\n",
    "\n",
    "# printing initial_date\n",
    "print ('initial_date:', str(ini_time_for_now))\n",
    "\n",
    "# Calculating past dates\n",
    "# for two years\n",
    "past_date_before_2yrs = ini_time_for_now - timedelta(days = 730)\n",
    "\n",
    "# for two hours\n",
    "past_date_before_2hours = ini_time_for_now - timedelta(hours = 2)\n",
    "\n",
    "\n",
    "# printing calculated past_dates\n",
    "print('past_date_before_2yrs:', str(past_date_before_2yrs))\n",
    "print('past_date_before_2hours:', str(past_date_before_2hours))\n"
   ]
  },
  {
   "cell_type": "code",
   "execution_count": 7,
   "metadata": {},
   "outputs": [
    {
     "name": "stdout",
     "output_type": "stream",
     "text": [
      "initial_date 2022-07-04 12:34:04.659189\n",
      "new_final_time 2022-07-06 12:34:04.659189\n",
      "Time difference: 2 days, 0:00:00\n"
     ]
    }
   ],
   "source": [
    "# Timedelta function demonstration\n",
    "from datetime import datetime, timedelta\n",
    "\n",
    "# Using current time\n",
    "ini_time_for_now = datetime.now()\n",
    "\n",
    "# printing initial_date\n",
    "print (\"initial_date\", str(ini_time_for_now))\n",
    "\n",
    "# Some another datetime\n",
    "new_final_time = ini_time_for_now + timedelta(days = 2)\n",
    "\n",
    "# printing new final_date\n",
    "print (\"new_final_time\", str(new_final_time))\n",
    "\n",
    "\n",
    "# printing calculated past_dates\n",
    "print('Time difference:', str(new_final_time - ini_time_for_now))\n"
   ]
  },
  {
   "cell_type": "code",
   "execution_count": 9,
   "metadata": {},
   "outputs": [
    {
     "name": "stdout",
     "output_type": "stream",
     "text": [
      "Enter first person's date(DD/MM/YYYY) : 23/08/1654\n",
      "Enter second person's date(DD/MM/YYYY) : 25/12/1987\n",
      "The first person is older\n"
     ]
    }
   ],
   "source": [
    "# importing datetime module\n",
    "from datetime import *\n",
    "\n",
    "# Enter birth dates and store\n",
    "# into date class objects\n",
    "d1, m1, y1 = [int(x) for x in input(\"Enter first\"\" person's date(DD/MM/YYYY) : \").split('/')]\n",
    "\n",
    "b1 = date(y1, m1, d1)\n",
    "\n",
    "# Input for second date\n",
    "d2, m2, y2 = [int(x) for x in input(\"Enter second\"\" person's date(DD/MM/YYYY) : \").split('/')]\n",
    "\n",
    "b2 = date(y2, m2, d2)\n",
    "\n",
    "# Check the dates\n",
    "if b1 == b2:print(\"Both persons are of equal age\")\n",
    "elif b1 > b2:print(\"The second person is older\")\n",
    "else:print(\"The first person is older\")\n"
   ]
  },
  {
   "cell_type": "markdown",
   "metadata": {},
   "source": [
    "strptime() is available in DateTime and time modules and is used for Date-Time Conversion. This function changes the given string of datetime into the desired format."
   ]
  },
  {
   "cell_type": "code",
   "execution_count": 10,
   "metadata": {},
   "outputs": [
    {
     "name": "stdout",
     "output_type": "stream",
     "text": [
      "2018-12-04 10:07:00\n"
     ]
    }
   ],
   "source": [
    "import datetime\n",
    "\n",
    "# Function to convert string to datetime\n",
    "def convert(date_time):\n",
    "    format = '%b %d %Y %I:%M%p' # The format\n",
    "    datetime_str = datetime.datetime.strptime(date_time, format)\n",
    "\n",
    "    return datetime_str\n",
    "\n",
    "\n",
    "# Driver code\n",
    "date_time = 'Dec 4 2018 10:07AM'\n",
    "print(convert(date_time))\n"
   ]
  },
  {
   "cell_type": "markdown",
   "metadata": {},
   "source": [
    "datetime_object.strftime(format_str)\n",
    "Another similar function is available in time module which converts a tuple or struct_time object to a string as specified by the format argument."
   ]
  },
  {
   "cell_type": "code",
   "execution_count": 11,
   "metadata": {},
   "outputs": [
    {
     "name": "stdout",
     "output_type": "stream",
     "text": [
      "Dec 04 2018 04:37:00 AM\n"
     ]
    }
   ],
   "source": [
    "import time\n",
    "\n",
    "# Function to convert string to datetime\n",
    "def convert(datetime_str):\n",
    "    datetime_str = time.mktime(datetime_str)\n",
    "\n",
    "    format = \"%b %d %Y %r\" # The format\n",
    "    dateTime = time.strftime(format, time.gmtime(datetime_str))\n",
    "    return dateTime\n",
    "\n",
    "# Driver code\n",
    "date_time = (2018, 12, 4, 10, 7, 00, 1, 48, 0)\n",
    "print(convert(date_time))\n"
   ]
  },
  {
   "cell_type": "code",
   "execution_count": 13,
   "metadata": {},
   "outputs": [
    {
     "name": "stdout",
     "output_type": "stream",
     "text": [
      "        Date    Event   Cost\n",
      "0 2011-11-08    Music  10000\n",
      "1 2008-04-23   Poetry   5000\n",
      "2 2019-10-02  Theatre  15000\n"
     ]
    }
   ],
   "source": [
    "import pandas as pd\n",
    " \n",
    "# Creating the dataframe\n",
    "df = pd.DataFrame({'Date':['11/8/2011', '04/23/2008', '10/2/2019'],\n",
    "                'Event':['Music', 'Poetry', 'Theatre'],\n",
    "                'Cost':[10000, 5000, 15000]})\n",
    "\n",
    "\n",
    "# convert the 'Date' column to datetime format\n",
    "df['Date'] = df['Date'].astype('datetime64[ns]')\n",
    "print(df)"
   ]
  },
  {
   "cell_type": "markdown",
   "metadata": {},
   "source": [
    "If the data frame column is in ‘yymmdd’ format and we have to convert it to ‘yyyymmdd’ format "
   ]
  },
  {
   "cell_type": "code",
   "execution_count": 17,
   "metadata": {},
   "outputs": [
    {
     "name": "stdout",
     "output_type": "stream",
     "text": [
      "    Dates  Patients\n",
      "0  200712     50000\n",
      "1  200714     51000\n",
      "2  200716     51500\n",
      "3  200719     53000\n",
      "4  200721     54000\n",
      "5  200724     55000\n",
      "6  200729     57000\n",
      "\n",
      "Dates       object\n",
      "Patients     int64\n",
      "dtype: object\n"
     ]
    }
   ],
   "source": [
    "import pandas as pd\n",
    " \n",
    "# Initializing the nested list with Data set\n",
    "player_list = [['200712',50000],['200714',51000],['200716',51500],\n",
    "            ['200719',53000],['200721',54000],\n",
    "            ['200724',55000],['200729',57000]]\n",
    " \n",
    "# creating a pandas dataframe\n",
    "df = pd.DataFrame(player_list,columns=['Dates','Patients'])\n",
    " \n",
    "# printing dataframe\n",
    "print(df)\n",
    "print()\n",
    " \n",
    "# checking the type\n",
    "print(df.dtypes)"
   ]
  },
  {
   "cell_type": "code",
   "execution_count": 18,
   "metadata": {},
   "outputs": [
    {
     "name": "stdout",
     "output_type": "stream",
     "text": [
      "       Dates  Patients\n",
      "0 2020-07-12     50000\n",
      "1 2020-07-14     51000\n",
      "2 2020-07-16     51500\n",
      "3 2020-07-19     53000\n",
      "4 2020-07-21     54000\n",
      "5 2020-07-24     55000\n",
      "6 2020-07-29     57000\n",
      "Dates       datetime64[ns]\n",
      "Patients             int64\n",
      "dtype: object\n"
     ]
    }
   ],
   "source": [
    "\n",
    "# converting the string to datetime format\n",
    "df['Dates'] = pd.to_datetime(df['Dates'], format='%y%m%d')\n",
    " \n",
    "# printing dataframe\n",
    "print(df)\n",
    "\n",
    " \n",
    "print(df.dtypes)"
   ]
  },
  {
   "cell_type": "markdown",
   "metadata": {},
   "source": [
    "Converting multiple columns from string to ‘yyyymmdd‘ format using pandas.to_datetime()"
   ]
  },
  {
   "cell_type": "code",
   "execution_count": 21,
   "metadata": {},
   "outputs": [
    {
     "name": "stdout",
     "output_type": "stream",
     "text": [
      "  Treatment_start  No.of Patients Treatment_end\n",
      "0        20200712           50000      20200812\n",
      "1        20200714           51000      20200814\n",
      "2        20200716           51500      20200816\n",
      "3        20200719           53000      20200819\n",
      "4        20200721           54000      20200821\n",
      "5        20200724           55000      20200824\n",
      "6        20200729           57000      20200824\n",
      "\n",
      "Treatment_start    object\n",
      "No.of Patients      int64\n",
      "Treatment_end      object\n",
      "dtype: object\n"
     ]
    }
   ],
   "source": [
    "# importing pandas library\n",
    "import pandas as pd\n",
    "\n",
    "# Initializing the nested list with Data set\n",
    "player_list = [['20200712',50000,'20200812'],\n",
    "\t\t\t['20200714',51000,'20200814'],\n",
    "\t\t\t['20200716',51500,'20200816'],\n",
    "\t\t\t['20200719',53000,'20200819'],\n",
    "\t\t\t['20200721',54000,'20200821'],\n",
    "\t\t\t['20200724',55000,'20200824'],\n",
    "\t\t\t['20200729',57000,'20200824']]\n",
    "\n",
    "# creating a pandas dataframe\n",
    "df = pd.DataFrame(\n",
    "player_list,columns = ['Treatment_start',\n",
    "\t\t\t\t\t\t'No.of Patients',\n",
    "\t\t\t\t\t\t'Treatment_end'])\n",
    "\n",
    "# printing dataframe\n",
    "print(df)\n",
    "print()\n",
    "\n",
    "# checking the type\n",
    "print(df.dtypes)\n"
   ]
  },
  {
   "cell_type": "code",
   "execution_count": 22,
   "metadata": {},
   "outputs": [
    {
     "name": "stdout",
     "output_type": "stream",
     "text": [
      "  Treatment_start  No.of Patients Treatment_end\n",
      "0      2020-07-12           50000    2020-08-12\n",
      "1      2020-07-14           51000    2020-08-14\n",
      "2      2020-07-16           51500    2020-08-16\n",
      "3      2020-07-19           53000    2020-08-19\n",
      "4      2020-07-21           54000    2020-08-21\n",
      "5      2020-07-24           55000    2020-08-24\n",
      "6      2020-07-29           57000    2020-08-24\n",
      "Treatment_start    datetime64[ns]\n",
      "No.of Patients              int64\n",
      "Treatment_end      datetime64[ns]\n",
      "dtype: object\n"
     ]
    }
   ],
   "source": [
    "# converting the string to datetime\n",
    "# format in multiple columns\n",
    "df['Treatment_start'] = pd.to_datetime(\n",
    "                          df['Treatment_start'],\n",
    "                          format='%Y%m%d'\n",
    ")\n",
    "df['Treatment_end'] = pd.to_datetime(\n",
    "                          df['Treatment_end'],\n",
    "                          format='%Y%m%d'\n",
    ")\n",
    " \n",
    "\n",
    "##printing dataframe\n",
    "print(df)\n",
    "\n",
    " \n",
    "print(df.dtypes)"
   ]
  },
  {
   "cell_type": "code",
   "execution_count": 23,
   "metadata": {},
   "outputs": [
    {
     "name": "stdout",
     "output_type": "stream",
     "text": [
      "        Date    Event   Cost\n",
      "0  10/2/2011    Music  10000\n",
      "1  11/2/2011   Poetry   5000\n",
      "2  12/2/2011  Theatre  15000\n",
      "3  13/2/2011   Comedy   2000\n"
     ]
    }
   ],
   "source": [
    "# importing pandas as pd\n",
    "import pandas as pd\n",
    "\n",
    "# Creating the DataFrame\n",
    "df = pd.DataFrame({'Date':['10/2/2011', '11/2/2011', '12/2/2011', '13/2/2011'],\n",
    "                    'Event':['Music', 'Poetry', 'Theatre', 'Comedy'],\n",
    "                    'Cost':[10000, 5000, 15000, 2000]})\n",
    "\n",
    "# Print the dataframe\n",
    "print(df)\n"
   ]
  },
  {
   "cell_type": "markdown",
   "metadata": {},
   "source": [
    "Now we will create a new column called ‘Discounted_Price’ after applying a 10% discount on the existing ‘Cost’ column."
   ]
  },
  {
   "cell_type": "code",
   "execution_count": 24,
   "metadata": {},
   "outputs": [
    {
     "name": "stdout",
     "output_type": "stream",
     "text": [
      "        Date    Event   Cost  Discounted_Price\n",
      "0  10/2/2011    Music  10000            9000.0\n",
      "1  11/2/2011   Poetry   5000            4500.0\n",
      "2  12/2/2011  Theatre  15000           13500.0\n",
      "3  13/2/2011   Comedy   2000            1800.0\n"
     ]
    }
   ],
   "source": [
    "# using apply function to create a new column\n",
    "df['Discounted_Price'] = df.apply(lambda row: row.Cost -\n",
    "                                (row.Cost * 0.1), axis = 1)\n",
    "\n",
    "# Print the DataFrame after addition\n",
    "# of new column\n",
    "print(df)\n"
   ]
  },
  {
   "cell_type": "markdown",
   "metadata": {},
   "source": [
    "We can achieve the same result by directly performing the required operation on the desired column element-wise."
   ]
  },
  {
   "cell_type": "code",
   "execution_count": 25,
   "metadata": {},
   "outputs": [
    {
     "name": "stdout",
     "output_type": "stream",
     "text": [
      "        Date    Event   Cost  Discounted_Price\n",
      "0  10/2/2011    Music  10000            9000.0\n",
      "1  11/2/2011   Poetry   5000            4500.0\n",
      "2  12/2/2011  Theatre  15000           13500.0\n",
      "3  13/2/2011   Comedy   2000            1800.0\n"
     ]
    }
   ],
   "source": [
    "\n",
    "# importing pandas as pd\n",
    "import pandas as pd\n",
    "  \n",
    "# Creating the DataFrame\n",
    "df = pd.DataFrame({'Date':['10/2/2011', '11/2/2011', '12/2/2011', '13/2/2011'],\n",
    "                    'Event':['Music', 'Poetry', 'Theatre', 'Comedy'],\n",
    "                    'Cost':[10000, 5000, 15000, 2000]})\n",
    "  \n",
    "# Create a new column 'Discounted_Price' after applying\n",
    "# 10% discount on the existing 'Cost' column.\n",
    "  \n",
    "# create a new column\n",
    "df['Discounted_Price'] = df['Cost'] - (0.1 * df['Cost'])\n",
    "  \n",
    "# Print the DataFrame after \n",
    "# addition of new column\n",
    "print(df)"
   ]
  },
  {
   "cell_type": "markdown",
   "metadata": {},
   "source": [
    "Now we will add a new column called ‘Price’ to the dataframe. For that purpose, we will use list comprehension technique. Set the price to 1500 if the ‘Event’ is ‘Music’ else 800."
   ]
  },
  {
   "cell_type": "code",
   "execution_count": 27,
   "metadata": {},
   "outputs": [
    {
     "name": "stdout",
     "output_type": "stream",
     "text": [
      "         Date   Event  Price\n",
      "0   11/8/2011   Music   1500\n",
      "1   11/9/2011  Poetry    800\n",
      "2  11/10/2011   Music   1500\n",
      "3  11/11/2011   Music   1500\n",
      "4  11/12/2011  Poetry    800\n"
     ]
    }
   ],
   "source": [
    "\n",
    "# importing pandas as pd\n",
    "import pandas as pd\n",
    "  \n",
    "# Creating the dataframe\n",
    "df = pd.DataFrame({'Date' : ['11/8/2011', '11/9/2011', '11/10/2011',\n",
    "                                        '11/11/2011', '11/12/2011'],\n",
    "                'Event' : ['Music', 'Poetry', 'Music', 'Music', 'Poetry']})\n",
    "                \n",
    "# Add a new column named 'Price'\n",
    "df['Price'] = [1500 if x =='Music' else 800 for x in df['Event']]\n",
    "  \n",
    "# Print the dataframe\n",
    "print(df)"
   ]
  },
  {
   "cell_type": "code",
   "execution_count": 28,
   "metadata": {},
   "outputs": [
    {
     "name": "stdout",
     "output_type": "stream",
     "text": [
      "         Date   Event  Price\n",
      "0   11/8/2011   Music   1500\n",
      "1   11/9/2011  Poetry    800\n",
      "2  11/10/2011   Music   1500\n",
      "3  11/11/2011   Music   1500\n",
      "4  11/12/2011  Poetry    800\n"
     ]
    }
   ],
   "source": [
    "# Define a function to map the values\n",
    "def set_value(row_number, assigned_value):\n",
    "    return assigned_value[row_number]\n",
    "\n",
    "# Create the dictionary\n",
    "event_dictionary ={'Music' : 1500, 'Poetry' : 800, 'Comedy' : 1200}\n",
    "\n",
    "# Add a new column named 'Price'\n",
    "df['Price'] = df['Event'].apply(set_value, args =(event_dictionary, ))\n",
    "\n",
    "# Print the DataFrame\n",
    "print(df)\n"
   ]
  },
  {
   "cell_type": "markdown",
   "metadata": {},
   "source": [
    "Now we will add a new column called ‘Price’ to the dataframe. For that purpose we will use DataFrame.map() function to achieve the goal. Set the price to 1500 if the ‘Event’ is ‘Music’, 1200 if the ‘Event’ is ‘Comedy’ and 800 if the ‘Event’ is ‘Poetry’."
   ]
  },
  {
   "cell_type": "code",
   "execution_count": 29,
   "metadata": {},
   "outputs": [
    {
     "name": "stdout",
     "output_type": "stream",
     "text": [
      "         Date   Event  Price\n",
      "0   11/8/2011   Music   1500\n",
      "1   11/9/2011  Poetry    800\n",
      "2  11/10/2011   Music   1500\n",
      "3  11/11/2011   Music   1500\n",
      "4  11/12/2011  Poetry    800\n"
     ]
    }
   ],
   "source": [
    "# Create the dictionary\n",
    "event_dictionary ={'Music' : 1500, 'Poetry' : 800, 'Comedy' : 1200}\n",
    "\n",
    "# Add a new column named 'Price'\n",
    "df['Price'] = df['Event'].map(event_dictionary)\n",
    "\n",
    "# Print the DataFrame\n",
    "print(df)\n"
   ]
  },
  {
   "cell_type": "markdown",
   "metadata": {},
   "source": [
    " Selecting all the rows from the given dataframe in which ‘Percentage’ is greater than 80 using basic method."
   ]
  },
  {
   "cell_type": "code",
   "execution_count": 30,
   "metadata": {},
   "outputs": [
    {
     "name": "stdout",
     "output_type": "stream",
     "text": [
      "Given Dataframe :\n",
      "         Name  Age    Stream  Percentage\n",
      "0      Ankit   21      Math          88\n",
      "1       Amit   19  Commerce          92\n",
      "2  Aishwarya   20   Science          95\n",
      "3   Priyanka   18      Math          70\n",
      "4      Priya   17      Math          65\n",
      "5    Shaurya   21   Science          78\n",
      "\n",
      "Result dataframe :\n",
      "         Name  Age    Stream  Percentage\n",
      "0      Ankit   21      Math          88\n",
      "1       Amit   19  Commerce          92\n",
      "2  Aishwarya   20   Science          95\n"
     ]
    }
   ],
   "source": [
    "# importing pandas\n",
    "import pandas as pd\n",
    "\n",
    "record = {\n",
    "\n",
    "'Name': ['Ankit', 'Amit', 'Aishwarya', 'Priyanka', 'Priya', 'Shaurya' ],\n",
    "'Age': [21, 19, 20, 18, 17, 21],\n",
    "'Stream': ['Math', 'Commerce', 'Science', 'Math', 'Math', 'Science'],\n",
    "'Percentage': [88, 92, 95, 70, 65, 78] }\n",
    "\n",
    "# create a dataframe\n",
    "dataframe = pd.DataFrame(record, columns = ['Name', 'Age', 'Stream', 'Percentage'])\n",
    "\n",
    "print(\"Given Dataframe :\\n\", dataframe)\n",
    "\n",
    "# selecting rows based on condition\n",
    "rslt_df = dataframe[dataframe['Percentage'] > 80]\n",
    "\n",
    "print('\\nResult dataframe :\\n', rslt_df)\n"
   ]
  },
  {
   "cell_type": "markdown",
   "metadata": {},
   "source": [
    "Syntax:\n",
    "DataFrame.where(cond, other=nan, inplace=False, axis=None, level=None, errors=’raise’, try_cast=False, raise_on_error=None)\n",
    " \n",
    "\n",
    "Parameters:\n",
    "\n",
    "cond: One or more condition to check data frame for.\n",
    "other: Replace rows which don’t satisfy the condition with user defined object, Default is NaN\n",
    "inplace: Boolean value, Makes changes in data frame itself if True\n",
    "axis: axis to check( row or columns)"
   ]
  },
  {
   "cell_type": "code",
   "execution_count": 36,
   "metadata": {},
   "outputs": [
    {
     "data": {
      "text/html": [
       "<div>\n",
       "<style scoped>\n",
       "    .dataframe tbody tr th:only-of-type {\n",
       "        vertical-align: middle;\n",
       "    }\n",
       "\n",
       "    .dataframe tbody tr th {\n",
       "        vertical-align: top;\n",
       "    }\n",
       "\n",
       "    .dataframe thead th {\n",
       "        text-align: right;\n",
       "    }\n",
       "</style>\n",
       "<table border=\"1\" class=\"dataframe\">\n",
       "  <thead>\n",
       "    <tr style=\"text-align: right;\">\n",
       "      <th></th>\n",
       "      <th>Name</th>\n",
       "      <th>Team</th>\n",
       "      <th>Number</th>\n",
       "      <th>Position</th>\n",
       "      <th>Age</th>\n",
       "      <th>Height</th>\n",
       "      <th>Weight</th>\n",
       "      <th>College</th>\n",
       "      <th>Salary</th>\n",
       "    </tr>\n",
       "  </thead>\n",
       "  <tbody>\n",
       "    <tr>\n",
       "      <th>317</th>\n",
       "      <td>Lamar Patterson</td>\n",
       "      <td>Atlanta Hawks</td>\n",
       "      <td>13.0</td>\n",
       "      <td>SG</td>\n",
       "      <td>24.0</td>\n",
       "      <td>6-5</td>\n",
       "      <td>225.0</td>\n",
       "      <td>Pittsburgh</td>\n",
       "      <td>525093.0</td>\n",
       "    </tr>\n",
       "    <tr>\n",
       "      <th>309</th>\n",
       "      <td>Kent Bazemore</td>\n",
       "      <td>Atlanta Hawks</td>\n",
       "      <td>24.0</td>\n",
       "      <td>SF</td>\n",
       "      <td>26.0</td>\n",
       "      <td>6-5</td>\n",
       "      <td>201.0</td>\n",
       "      <td>Old Dominion</td>\n",
       "      <td>2000000.0</td>\n",
       "    </tr>\n",
       "    <tr>\n",
       "      <th>310</th>\n",
       "      <td>Tim Hardaway Jr.</td>\n",
       "      <td>Atlanta Hawks</td>\n",
       "      <td>10.0</td>\n",
       "      <td>SG</td>\n",
       "      <td>24.0</td>\n",
       "      <td>6-6</td>\n",
       "      <td>205.0</td>\n",
       "      <td>Michigan</td>\n",
       "      <td>1304520.0</td>\n",
       "    </tr>\n",
       "    <tr>\n",
       "      <th>311</th>\n",
       "      <td>Kirk Hinrich</td>\n",
       "      <td>Atlanta Hawks</td>\n",
       "      <td>12.0</td>\n",
       "      <td>SG</td>\n",
       "      <td>35.0</td>\n",
       "      <td>6-4</td>\n",
       "      <td>190.0</td>\n",
       "      <td>Kansas</td>\n",
       "      <td>2854940.0</td>\n",
       "    </tr>\n",
       "    <tr>\n",
       "      <th>312</th>\n",
       "      <td>Al Horford</td>\n",
       "      <td>Atlanta Hawks</td>\n",
       "      <td>15.0</td>\n",
       "      <td>C</td>\n",
       "      <td>30.0</td>\n",
       "      <td>6-10</td>\n",
       "      <td>245.0</td>\n",
       "      <td>Florida</td>\n",
       "      <td>12000000.0</td>\n",
       "    </tr>\n",
       "    <tr>\n",
       "      <th>...</th>\n",
       "      <td>...</td>\n",
       "      <td>...</td>\n",
       "      <td>...</td>\n",
       "      <td>...</td>\n",
       "      <td>...</td>\n",
       "      <td>...</td>\n",
       "      <td>...</td>\n",
       "      <td>...</td>\n",
       "      <td>...</td>\n",
       "    </tr>\n",
       "    <tr>\n",
       "      <th>369</th>\n",
       "      <td>Bradley Beal</td>\n",
       "      <td>Washington Wizards</td>\n",
       "      <td>3.0</td>\n",
       "      <td>SG</td>\n",
       "      <td>22.0</td>\n",
       "      <td>6-5</td>\n",
       "      <td>207.0</td>\n",
       "      <td>Florida</td>\n",
       "      <td>5694674.0</td>\n",
       "    </tr>\n",
       "    <tr>\n",
       "      <th>368</th>\n",
       "      <td>Alan Anderson</td>\n",
       "      <td>Washington Wizards</td>\n",
       "      <td>6.0</td>\n",
       "      <td>SG</td>\n",
       "      <td>33.0</td>\n",
       "      <td>6-6</td>\n",
       "      <td>220.0</td>\n",
       "      <td>Michigan State</td>\n",
       "      <td>4000000.0</td>\n",
       "    </tr>\n",
       "    <tr>\n",
       "      <th>382</th>\n",
       "      <td>John Wall</td>\n",
       "      <td>Washington Wizards</td>\n",
       "      <td>2.0</td>\n",
       "      <td>PG</td>\n",
       "      <td>25.0</td>\n",
       "      <td>6-4</td>\n",
       "      <td>195.0</td>\n",
       "      <td>Kentucky</td>\n",
       "      <td>15851950.0</td>\n",
       "    </tr>\n",
       "    <tr>\n",
       "      <th>370</th>\n",
       "      <td>Jared Dudley</td>\n",
       "      <td>Washington Wizards</td>\n",
       "      <td>1.0</td>\n",
       "      <td>SF</td>\n",
       "      <td>30.0</td>\n",
       "      <td>6-7</td>\n",
       "      <td>225.0</td>\n",
       "      <td>Boston College</td>\n",
       "      <td>4375000.0</td>\n",
       "    </tr>\n",
       "    <tr>\n",
       "      <th>457</th>\n",
       "      <td>NaN</td>\n",
       "      <td>NaN</td>\n",
       "      <td>NaN</td>\n",
       "      <td>NaN</td>\n",
       "      <td>NaN</td>\n",
       "      <td>NaN</td>\n",
       "      <td>NaN</td>\n",
       "      <td>NaN</td>\n",
       "      <td>NaN</td>\n",
       "    </tr>\n",
       "  </tbody>\n",
       "</table>\n",
       "<p>458 rows × 9 columns</p>\n",
       "</div>"
      ],
      "text/plain": [
       "                 Name                Team  Number Position   Age Height  \\\n",
       "317   Lamar Patterson       Atlanta Hawks    13.0       SG  24.0    6-5   \n",
       "309     Kent Bazemore       Atlanta Hawks    24.0       SF  26.0    6-5   \n",
       "310  Tim Hardaway Jr.       Atlanta Hawks    10.0       SG  24.0    6-6   \n",
       "311      Kirk Hinrich       Atlanta Hawks    12.0       SG  35.0    6-4   \n",
       "312        Al Horford       Atlanta Hawks    15.0        C  30.0   6-10   \n",
       "..                ...                 ...     ...      ...   ...    ...   \n",
       "369      Bradley Beal  Washington Wizards     3.0       SG  22.0    6-5   \n",
       "368     Alan Anderson  Washington Wizards     6.0       SG  33.0    6-6   \n",
       "382         John Wall  Washington Wizards     2.0       PG  25.0    6-4   \n",
       "370      Jared Dudley  Washington Wizards     1.0       SF  30.0    6-7   \n",
       "457               NaN                 NaN     NaN      NaN   NaN    NaN   \n",
       "\n",
       "     Weight         College      Salary  \n",
       "317   225.0      Pittsburgh    525093.0  \n",
       "309   201.0    Old Dominion   2000000.0  \n",
       "310   205.0        Michigan   1304520.0  \n",
       "311   190.0          Kansas   2854940.0  \n",
       "312   245.0         Florida  12000000.0  \n",
       "..      ...             ...         ...  \n",
       "369   207.0         Florida   5694674.0  \n",
       "368   220.0  Michigan State   4000000.0  \n",
       "382   195.0        Kentucky  15851950.0  \n",
       "370   225.0  Boston College   4375000.0  \n",
       "457     NaN             NaN         NaN  \n",
       "\n",
       "[458 rows x 9 columns]"
      ]
     },
     "execution_count": 36,
     "metadata": {},
     "output_type": "execute_result"
    }
   ],
   "source": [
    "# importing pandas package\n",
    "import pandas as pd\n",
    "\n",
    "# making data frame from csv file\n",
    "data = pd.read_csv(\"nba.csv\")\n",
    "\n",
    "# sorting dataframe\n",
    "data.sort_values(\"Team\", inplace = True)\n",
    "\n",
    "# making boolean series for a team name\n",
    "filter = data[\"Team\"]==\"Atlanta Hawks\"\n",
    "\n",
    "# filtering data\n",
    "data.where(filter)\n",
    "\n",
    "# display\n",
    "data\n"
   ]
  },
  {
   "cell_type": "code",
   "execution_count": 37,
   "metadata": {},
   "outputs": [
    {
     "data": {
      "text/html": [
       "<div>\n",
       "<style scoped>\n",
       "    .dataframe tbody tr th:only-of-type {\n",
       "        vertical-align: middle;\n",
       "    }\n",
       "\n",
       "    .dataframe tbody tr th {\n",
       "        vertical-align: top;\n",
       "    }\n",
       "\n",
       "    .dataframe thead th {\n",
       "        text-align: right;\n",
       "    }\n",
       "</style>\n",
       "<table border=\"1\" class=\"dataframe\">\n",
       "  <thead>\n",
       "    <tr style=\"text-align: right;\">\n",
       "      <th></th>\n",
       "      <th>Name</th>\n",
       "      <th>Team</th>\n",
       "      <th>Number</th>\n",
       "      <th>Position</th>\n",
       "      <th>Age</th>\n",
       "      <th>Height</th>\n",
       "      <th>Weight</th>\n",
       "      <th>College</th>\n",
       "      <th>Salary</th>\n",
       "    </tr>\n",
       "  </thead>\n",
       "  <tbody>\n",
       "    <tr>\n",
       "      <th>317</th>\n",
       "      <td>Lamar Patterson</td>\n",
       "      <td>Atlanta Hawks</td>\n",
       "      <td>13.0</td>\n",
       "      <td>SG</td>\n",
       "      <td>24.0</td>\n",
       "      <td>6-5</td>\n",
       "      <td>225.0</td>\n",
       "      <td>Pittsburgh</td>\n",
       "      <td>525093.0</td>\n",
       "    </tr>\n",
       "    <tr>\n",
       "      <th>309</th>\n",
       "      <td>Kent Bazemore</td>\n",
       "      <td>Atlanta Hawks</td>\n",
       "      <td>24.0</td>\n",
       "      <td>SF</td>\n",
       "      <td>26.0</td>\n",
       "      <td>6-5</td>\n",
       "      <td>201.0</td>\n",
       "      <td>Old Dominion</td>\n",
       "      <td>2000000.0</td>\n",
       "    </tr>\n",
       "    <tr>\n",
       "      <th>310</th>\n",
       "      <td>Tim Hardaway Jr.</td>\n",
       "      <td>Atlanta Hawks</td>\n",
       "      <td>10.0</td>\n",
       "      <td>SG</td>\n",
       "      <td>24.0</td>\n",
       "      <td>6-6</td>\n",
       "      <td>205.0</td>\n",
       "      <td>Michigan</td>\n",
       "      <td>1304520.0</td>\n",
       "    </tr>\n",
       "    <tr>\n",
       "      <th>311</th>\n",
       "      <td>Kirk Hinrich</td>\n",
       "      <td>Atlanta Hawks</td>\n",
       "      <td>12.0</td>\n",
       "      <td>SG</td>\n",
       "      <td>35.0</td>\n",
       "      <td>6-4</td>\n",
       "      <td>190.0</td>\n",
       "      <td>Kansas</td>\n",
       "      <td>2854940.0</td>\n",
       "    </tr>\n",
       "    <tr>\n",
       "      <th>312</th>\n",
       "      <td>Al Horford</td>\n",
       "      <td>Atlanta Hawks</td>\n",
       "      <td>15.0</td>\n",
       "      <td>C</td>\n",
       "      <td>30.0</td>\n",
       "      <td>6-10</td>\n",
       "      <td>245.0</td>\n",
       "      <td>Florida</td>\n",
       "      <td>12000000.0</td>\n",
       "    </tr>\n",
       "    <tr>\n",
       "      <th>...</th>\n",
       "      <td>...</td>\n",
       "      <td>...</td>\n",
       "      <td>...</td>\n",
       "      <td>...</td>\n",
       "      <td>...</td>\n",
       "      <td>...</td>\n",
       "      <td>...</td>\n",
       "      <td>...</td>\n",
       "      <td>...</td>\n",
       "    </tr>\n",
       "    <tr>\n",
       "      <th>369</th>\n",
       "      <td>Bradley Beal</td>\n",
       "      <td>Washington Wizards</td>\n",
       "      <td>3.0</td>\n",
       "      <td>SG</td>\n",
       "      <td>22.0</td>\n",
       "      <td>6-5</td>\n",
       "      <td>207.0</td>\n",
       "      <td>Florida</td>\n",
       "      <td>5694674.0</td>\n",
       "    </tr>\n",
       "    <tr>\n",
       "      <th>368</th>\n",
       "      <td>Alan Anderson</td>\n",
       "      <td>Washington Wizards</td>\n",
       "      <td>6.0</td>\n",
       "      <td>SG</td>\n",
       "      <td>33.0</td>\n",
       "      <td>6-6</td>\n",
       "      <td>220.0</td>\n",
       "      <td>Michigan State</td>\n",
       "      <td>4000000.0</td>\n",
       "    </tr>\n",
       "    <tr>\n",
       "      <th>382</th>\n",
       "      <td>John Wall</td>\n",
       "      <td>Washington Wizards</td>\n",
       "      <td>2.0</td>\n",
       "      <td>PG</td>\n",
       "      <td>25.0</td>\n",
       "      <td>6-4</td>\n",
       "      <td>195.0</td>\n",
       "      <td>Kentucky</td>\n",
       "      <td>15851950.0</td>\n",
       "    </tr>\n",
       "    <tr>\n",
       "      <th>370</th>\n",
       "      <td>Jared Dudley</td>\n",
       "      <td>Washington Wizards</td>\n",
       "      <td>1.0</td>\n",
       "      <td>SF</td>\n",
       "      <td>30.0</td>\n",
       "      <td>6-7</td>\n",
       "      <td>225.0</td>\n",
       "      <td>Boston College</td>\n",
       "      <td>4375000.0</td>\n",
       "    </tr>\n",
       "    <tr>\n",
       "      <th>457</th>\n",
       "      <td>NaN</td>\n",
       "      <td>NaN</td>\n",
       "      <td>NaN</td>\n",
       "      <td>NaN</td>\n",
       "      <td>NaN</td>\n",
       "      <td>NaN</td>\n",
       "      <td>NaN</td>\n",
       "      <td>NaN</td>\n",
       "      <td>NaN</td>\n",
       "    </tr>\n",
       "  </tbody>\n",
       "</table>\n",
       "<p>458 rows × 9 columns</p>\n",
       "</div>"
      ],
      "text/plain": [
       "                 Name                Team  Number Position   Age Height  \\\n",
       "317   Lamar Patterson       Atlanta Hawks    13.0       SG  24.0    6-5   \n",
       "309     Kent Bazemore       Atlanta Hawks    24.0       SF  26.0    6-5   \n",
       "310  Tim Hardaway Jr.       Atlanta Hawks    10.0       SG  24.0    6-6   \n",
       "311      Kirk Hinrich       Atlanta Hawks    12.0       SG  35.0    6-4   \n",
       "312        Al Horford       Atlanta Hawks    15.0        C  30.0   6-10   \n",
       "..                ...                 ...     ...      ...   ...    ...   \n",
       "369      Bradley Beal  Washington Wizards     3.0       SG  22.0    6-5   \n",
       "368     Alan Anderson  Washington Wizards     6.0       SG  33.0    6-6   \n",
       "382         John Wall  Washington Wizards     2.0       PG  25.0    6-4   \n",
       "370      Jared Dudley  Washington Wizards     1.0       SF  30.0    6-7   \n",
       "457               NaN                 NaN     NaN      NaN   NaN    NaN   \n",
       "\n",
       "     Weight         College      Salary  \n",
       "317   225.0      Pittsburgh    525093.0  \n",
       "309   201.0    Old Dominion   2000000.0  \n",
       "310   205.0        Michigan   1304520.0  \n",
       "311   190.0          Kansas   2854940.0  \n",
       "312   245.0         Florida  12000000.0  \n",
       "..      ...             ...         ...  \n",
       "369   207.0         Florida   5694674.0  \n",
       "368   220.0  Michigan State   4000000.0  \n",
       "382   195.0        Kentucky  15851950.0  \n",
       "370   225.0  Boston College   4375000.0  \n",
       "457     NaN             NaN         NaN  \n",
       "\n",
       "[458 rows x 9 columns]"
      ]
     },
     "execution_count": 37,
     "metadata": {},
     "output_type": "execute_result"
    }
   ],
   "source": [
    "# importing pandas package\n",
    "import pandas as pd\n",
    "\n",
    "# making data frame from csv file\n",
    "data = pd.read_csv(\"nba.csv\")\n",
    "\n",
    "# sorting dataframe\n",
    "data.sort_values(\"Team\", inplace = True)\n",
    "\n",
    "# making boolean series for a team name\n",
    "filter1 = data[\"Team\"]==\"Atlanta Hawks\"\n",
    "\n",
    "# making boolean series for age\n",
    "filter2 = data[\"Age\"]>24\n",
    "\n",
    "# filtering data on basis of both filters\n",
    "data.where(filter1 & filter2)\n",
    "\n",
    "# display\n",
    "data\n"
   ]
  },
  {
   "cell_type": "markdown",
   "metadata": {},
   "source": [
    "Syntax: Series.str.find(sub, start=0, end=None)\n",
    "Parameters: \n",
    "sub: String or character to be searched in the text value in series \n",
    "start: int value, start point of searching. Default is 0 which means from the beginning of string \n",
    "end: int value, end point where the search needs to be stopped. Default is None.\n",
    "Return type: Series with index position of substring occurrence "
   ]
  },
  {
   "cell_type": "code",
   "execution_count": 38,
   "metadata": {},
   "outputs": [
    {
     "data": {
      "text/html": [
       "<div>\n",
       "<style scoped>\n",
       "    .dataframe tbody tr th:only-of-type {\n",
       "        vertical-align: middle;\n",
       "    }\n",
       "\n",
       "    .dataframe tbody tr th {\n",
       "        vertical-align: top;\n",
       "    }\n",
       "\n",
       "    .dataframe thead th {\n",
       "        text-align: right;\n",
       "    }\n",
       "</style>\n",
       "<table border=\"1\" class=\"dataframe\">\n",
       "  <thead>\n",
       "    <tr style=\"text-align: right;\">\n",
       "      <th></th>\n",
       "      <th>Name</th>\n",
       "      <th>Team</th>\n",
       "      <th>Number</th>\n",
       "      <th>Position</th>\n",
       "      <th>Age</th>\n",
       "      <th>Height</th>\n",
       "      <th>Weight</th>\n",
       "      <th>College</th>\n",
       "      <th>Salary</th>\n",
       "      <th>Indexes</th>\n",
       "    </tr>\n",
       "  </thead>\n",
       "  <tbody>\n",
       "    <tr>\n",
       "      <th>0</th>\n",
       "      <td>Avery Bradley</td>\n",
       "      <td>Boston Celtics</td>\n",
       "      <td>0.0</td>\n",
       "      <td>PG</td>\n",
       "      <td>25.0</td>\n",
       "      <td>6-2</td>\n",
       "      <td>180.0</td>\n",
       "      <td>Texas</td>\n",
       "      <td>7730337.0</td>\n",
       "      <td>2</td>\n",
       "    </tr>\n",
       "    <tr>\n",
       "      <th>1</th>\n",
       "      <td>Jae Crowder</td>\n",
       "      <td>Boston Celtics</td>\n",
       "      <td>99.0</td>\n",
       "      <td>SF</td>\n",
       "      <td>25.0</td>\n",
       "      <td>6-6</td>\n",
       "      <td>235.0</td>\n",
       "      <td>Marquette</td>\n",
       "      <td>6796117.0</td>\n",
       "      <td>9</td>\n",
       "    </tr>\n",
       "    <tr>\n",
       "      <th>3</th>\n",
       "      <td>R.J. Hunter</td>\n",
       "      <td>Boston Celtics</td>\n",
       "      <td>28.0</td>\n",
       "      <td>SG</td>\n",
       "      <td>22.0</td>\n",
       "      <td>6-5</td>\n",
       "      <td>185.0</td>\n",
       "      <td>Georgia State</td>\n",
       "      <td>1148640.0</td>\n",
       "      <td>9</td>\n",
       "    </tr>\n",
       "    <tr>\n",
       "      <th>6</th>\n",
       "      <td>Jordan Mickey</td>\n",
       "      <td>Boston Celtics</td>\n",
       "      <td>55.0</td>\n",
       "      <td>PF</td>\n",
       "      <td>21.0</td>\n",
       "      <td>6-8</td>\n",
       "      <td>235.0</td>\n",
       "      <td>LSU</td>\n",
       "      <td>1170960.0</td>\n",
       "      <td>-1</td>\n",
       "    </tr>\n",
       "    <tr>\n",
       "      <th>7</th>\n",
       "      <td>Kelly Olynyk</td>\n",
       "      <td>Boston Celtics</td>\n",
       "      <td>41.0</td>\n",
       "      <td>C</td>\n",
       "      <td>25.0</td>\n",
       "      <td>7-0</td>\n",
       "      <td>238.0</td>\n",
       "      <td>Gonzaga</td>\n",
       "      <td>2165160.0</td>\n",
       "      <td>-1</td>\n",
       "    </tr>\n",
       "    <tr>\n",
       "      <th>...</th>\n",
       "      <td>...</td>\n",
       "      <td>...</td>\n",
       "      <td>...</td>\n",
       "      <td>...</td>\n",
       "      <td>...</td>\n",
       "      <td>...</td>\n",
       "      <td>...</td>\n",
       "      <td>...</td>\n",
       "      <td>...</td>\n",
       "      <td>...</td>\n",
       "    </tr>\n",
       "    <tr>\n",
       "      <th>449</th>\n",
       "      <td>Rodney Hood</td>\n",
       "      <td>Utah Jazz</td>\n",
       "      <td>5.0</td>\n",
       "      <td>SG</td>\n",
       "      <td>23.0</td>\n",
       "      <td>6-8</td>\n",
       "      <td>206.0</td>\n",
       "      <td>Duke</td>\n",
       "      <td>1348440.0</td>\n",
       "      <td>-1</td>\n",
       "    </tr>\n",
       "    <tr>\n",
       "      <th>451</th>\n",
       "      <td>Chris Johnson</td>\n",
       "      <td>Utah Jazz</td>\n",
       "      <td>23.0</td>\n",
       "      <td>SF</td>\n",
       "      <td>26.0</td>\n",
       "      <td>6-6</td>\n",
       "      <td>206.0</td>\n",
       "      <td>Dayton</td>\n",
       "      <td>981348.0</td>\n",
       "      <td>-1</td>\n",
       "    </tr>\n",
       "    <tr>\n",
       "      <th>452</th>\n",
       "      <td>Trey Lyles</td>\n",
       "      <td>Utah Jazz</td>\n",
       "      <td>41.0</td>\n",
       "      <td>PF</td>\n",
       "      <td>20.0</td>\n",
       "      <td>6-10</td>\n",
       "      <td>234.0</td>\n",
       "      <td>Kentucky</td>\n",
       "      <td>2239800.0</td>\n",
       "      <td>-1</td>\n",
       "    </tr>\n",
       "    <tr>\n",
       "      <th>453</th>\n",
       "      <td>Shelvin Mack</td>\n",
       "      <td>Utah Jazz</td>\n",
       "      <td>8.0</td>\n",
       "      <td>PG</td>\n",
       "      <td>26.0</td>\n",
       "      <td>6-3</td>\n",
       "      <td>203.0</td>\n",
       "      <td>Butler</td>\n",
       "      <td>2433333.0</td>\n",
       "      <td>-1</td>\n",
       "    </tr>\n",
       "    <tr>\n",
       "      <th>456</th>\n",
       "      <td>Jeff Withey</td>\n",
       "      <td>Utah Jazz</td>\n",
       "      <td>24.0</td>\n",
       "      <td>C</td>\n",
       "      <td>26.0</td>\n",
       "      <td>7-0</td>\n",
       "      <td>231.0</td>\n",
       "      <td>Kansas</td>\n",
       "      <td>947276.0</td>\n",
       "      <td>-1</td>\n",
       "    </tr>\n",
       "  </tbody>\n",
       "</table>\n",
       "<p>364 rows × 10 columns</p>\n",
       "</div>"
      ],
      "text/plain": [
       "              Name            Team  Number Position   Age Height  Weight  \\\n",
       "0    Avery Bradley  Boston Celtics     0.0       PG  25.0    6-2   180.0   \n",
       "1      Jae Crowder  Boston Celtics    99.0       SF  25.0    6-6   235.0   \n",
       "3      R.J. Hunter  Boston Celtics    28.0       SG  22.0    6-5   185.0   \n",
       "6    Jordan Mickey  Boston Celtics    55.0       PF  21.0    6-8   235.0   \n",
       "7     Kelly Olynyk  Boston Celtics    41.0        C  25.0    7-0   238.0   \n",
       "..             ...             ...     ...      ...   ...    ...     ...   \n",
       "449    Rodney Hood       Utah Jazz     5.0       SG  23.0    6-8   206.0   \n",
       "451  Chris Johnson       Utah Jazz    23.0       SF  26.0    6-6   206.0   \n",
       "452     Trey Lyles       Utah Jazz    41.0       PF  20.0   6-10   234.0   \n",
       "453   Shelvin Mack       Utah Jazz     8.0       PG  26.0    6-3   203.0   \n",
       "456    Jeff Withey       Utah Jazz    24.0        C  26.0    7-0   231.0   \n",
       "\n",
       "           College     Salary  Indexes  \n",
       "0            Texas  7730337.0        2  \n",
       "1        Marquette  6796117.0        9  \n",
       "3    Georgia State  1148640.0        9  \n",
       "6              LSU  1170960.0       -1  \n",
       "7          Gonzaga  2165160.0       -1  \n",
       "..             ...        ...      ...  \n",
       "449           Duke  1348440.0       -1  \n",
       "451         Dayton   981348.0       -1  \n",
       "452       Kentucky  2239800.0       -1  \n",
       "453         Butler  2433333.0       -1  \n",
       "456         Kansas   947276.0       -1  \n",
       "\n",
       "[364 rows x 10 columns]"
      ]
     },
     "execution_count": 38,
     "metadata": {},
     "output_type": "execute_result"
    }
   ],
   "source": [
    "# importing pandas module\n",
    "import pandas as pd\n",
    "\n",
    "# reading csv file from url\n",
    "data = pd.read_csv(\"https://media.geeksforgeeks.org/wp-content/uploads/nba.csv\")\n",
    "\n",
    "# dropping null value columns to avoid errors\n",
    "data.dropna(inplace = True)\n",
    "\n",
    "\n",
    "# substring to be searched\n",
    "sub ='er'\n",
    "\n",
    "# start var\n",
    "start = 2\n",
    "\n",
    "# creating and passing series to new column\n",
    "data[\"Indexes\"]= data[\"Name\"].str.find(sub, start)\n",
    "\n",
    "# display\n",
    "data\n"
   ]
  },
  {
   "cell_type": "markdown",
   "metadata": {},
   "source": [
    "Getting the rows satisfying condition"
   ]
  },
  {
   "cell_type": "code",
   "execution_count": 40,
   "metadata": {},
   "outputs": [
    {
     "name": "stdout",
     "output_type": "stream",
     "text": [
      "       Name    Team Position  Number  Age Height  Weight   College  Salary\n",
      "ind1  Geeks  Boston       PG       3   33    6-2      89       MIT   99999\n",
      "ind2  Peter  Boston       PG       4   25    6-4      79       MIT   99994\n",
      "ind4   Jack   Chele       PG      11   35    6-1      78  Stanford   78889\n"
     ]
    }
   ],
   "source": [
    "# importing pandas as pd\n",
    "import pandas as pd\n",
    "\n",
    "# Creating the dataframe with dict of lists\n",
    "df = pd.DataFrame({'Name': ['Geeks', 'Peter', 'James', 'Jack', 'Lisa'],\n",
    "                'Team': ['Boston', 'Boston', 'Boston', 'Chele', 'Barse'],\n",
    "                'Position': ['PG', 'PG', 'UG', 'PG', 'UG'],\n",
    "                'Number': [3, 4, 7, 11, 5],\n",
    "                'Age': [33, 25, 34, 35, 28],\n",
    "                'Height': ['6-2', '6-4', '5-9', '6-1', '5-8'],\n",
    "                'Weight': [89, 79, 113, 78, 84],\n",
    "                'College': ['MIT', 'MIT', 'MIT', 'Stanford', 'Stanford'],\n",
    "                'Salary': [99999, 99994, 89999, 78889, 87779]},\n",
    "index =['ind1', 'ind2', 'ind3', 'ind4', 'ind5'])\n",
    "\n",
    "df1 = df[df['Position'].str.contains(\"PG\")]\n",
    "print(df1)\n"
   ]
  },
  {
   "cell_type": "code",
   "execution_count": 41,
   "metadata": {},
   "outputs": [
    {
     "name": "stdout",
     "output_type": "stream",
     "text": [
      "       Name    Team Position  Number  Age Height  Weight College  Salary\n",
      "ind1  Geeks  Boston       PG       3   33    6-2      89     MIT   99999\n",
      "ind2  Peter  Boston       PG       4   25    6-4      79     MIT   99994\n",
      "ind3  James  Boston       UG       7   34    5-9     113     MIT   89999\n"
     ]
    }
   ],
   "source": [
    "# importing pandas\n",
    "import pandas as pd\n",
    "\n",
    "# Creating the dataframe with dict of lists\n",
    "df = pd.DataFrame({'Name': ['Geeks', 'Peter', 'James', 'Jack', 'Lisa'],\n",
    "\t\t\t\t'Team': ['Boston', 'Boston', 'Boston', 'Chele', 'Barse'],\n",
    "\t\t\t\t'Position': ['PG', 'PG', 'UG', 'PG', 'UG'],\n",
    "\t\t\t\t'Number': [3, 4, 7, 11, 5],\n",
    "\t\t\t\t'Age': [33, 25, 34, 35, 28],\n",
    "\t\t\t\t'Height': ['6-2', '6-4', '5-9', '6-1', '5-8'],\n",
    "\t\t\t\t'Weight': [89, 79, 113, 78, 84],\n",
    "\t\t\t\t'College': ['MIT', 'MIT', 'MIT', 'Stanford', 'Stanford'],\n",
    "\t\t\t\t'Salary': [99999, 99994, 89999, 78889, 87779]},\n",
    "\t\t\t\tindex =['ind1', 'ind2', 'ind3', 'ind4', 'ind5'])\n",
    "\n",
    "\n",
    "df1 = df[df['Team'].str.contains(\"Boston\") | df['College'].str.contains('MIT')]\n",
    "print(df1)\n"
   ]
  },
  {
   "cell_type": "code",
   "execution_count": 42,
   "metadata": {},
   "outputs": [
    {
     "data": {
      "text/html": [
       "<div>\n",
       "<style scoped>\n",
       "    .dataframe tbody tr th:only-of-type {\n",
       "        vertical-align: middle;\n",
       "    }\n",
       "\n",
       "    .dataframe tbody tr th {\n",
       "        vertical-align: top;\n",
       "    }\n",
       "\n",
       "    .dataframe thead th {\n",
       "        text-align: right;\n",
       "    }\n",
       "</style>\n",
       "<table border=\"1\" class=\"dataframe\">\n",
       "  <thead>\n",
       "    <tr style=\"text-align: right;\">\n",
       "      <th></th>\n",
       "      <th>Name</th>\n",
       "      <th>Team</th>\n",
       "      <th>Number</th>\n",
       "      <th>Position</th>\n",
       "      <th>Age</th>\n",
       "      <th>Height</th>\n",
       "      <th>Weight</th>\n",
       "      <th>College</th>\n",
       "      <th>Salary</th>\n",
       "    </tr>\n",
       "  </thead>\n",
       "  <tbody>\n",
       "    <tr>\n",
       "      <th>0</th>\n",
       "      <td>Avery Bradley</td>\n",
       "      <td>Boston Celtics</td>\n",
       "      <td>0.0</td>\n",
       "      <td>PG</td>\n",
       "      <td>25.0</td>\n",
       "      <td>6-2</td>\n",
       "      <td>180.0</td>\n",
       "      <td>Texas</td>\n",
       "      <td>7730337.0</td>\n",
       "    </tr>\n",
       "    <tr>\n",
       "      <th>8</th>\n",
       "      <td>Terry Rozier</td>\n",
       "      <td>Boston Celtics</td>\n",
       "      <td>12.0</td>\n",
       "      <td>PG</td>\n",
       "      <td>22.0</td>\n",
       "      <td>6-2</td>\n",
       "      <td>190.0</td>\n",
       "      <td>Louisville</td>\n",
       "      <td>1824360.0</td>\n",
       "    </tr>\n",
       "    <tr>\n",
       "      <th>9</th>\n",
       "      <td>Marcus Smart</td>\n",
       "      <td>Boston Celtics</td>\n",
       "      <td>36.0</td>\n",
       "      <td>PG</td>\n",
       "      <td>22.0</td>\n",
       "      <td>6-4</td>\n",
       "      <td>220.0</td>\n",
       "      <td>Oklahoma State</td>\n",
       "      <td>3431040.0</td>\n",
       "    </tr>\n",
       "    <tr>\n",
       "      <th>11</th>\n",
       "      <td>Isaiah Thomas</td>\n",
       "      <td>Boston Celtics</td>\n",
       "      <td>4.0</td>\n",
       "      <td>PG</td>\n",
       "      <td>27.0</td>\n",
       "      <td>5-9</td>\n",
       "      <td>185.0</td>\n",
       "      <td>Washington</td>\n",
       "      <td>6912869.0</td>\n",
       "    </tr>\n",
       "  </tbody>\n",
       "</table>\n",
       "</div>"
      ],
      "text/plain": [
       "             Name            Team  Number Position   Age Height  Weight  \\\n",
       "0   Avery Bradley  Boston Celtics     0.0       PG  25.0    6-2   180.0   \n",
       "8    Terry Rozier  Boston Celtics    12.0       PG  22.0    6-2   190.0   \n",
       "9    Marcus Smart  Boston Celtics    36.0       PG  22.0    6-4   220.0   \n",
       "11  Isaiah Thomas  Boston Celtics     4.0       PG  27.0    5-9   185.0   \n",
       "\n",
       "           College     Salary  \n",
       "0            Texas  7730337.0  \n",
       "8       Louisville  1824360.0  \n",
       "9   Oklahoma State  3431040.0  \n",
       "11      Washington  6912869.0  "
      ]
     },
     "execution_count": 42,
     "metadata": {},
     "output_type": "execute_result"
    }
   ],
   "source": [
    "# importing pandas module\n",
    "import pandas as pd\n",
    "\t\n",
    "# making data frame\n",
    "df = pd.read_csv(\"https://media.geeksforgeeks.org/wp-content/uploads/nba.csv\")\n",
    "\n",
    "\n",
    "df1 = df[df['Team'].str.contains('Boston') & df['Position'].str.contains('PG')]\n",
    "df1\n"
   ]
  },
  {
   "cell_type": "markdown",
   "metadata": {},
   "source": [
    " Use Series.str.contains a () function to find if a pattern is present in the strings of the underlying data in the given series object."
   ]
  },
  {
   "cell_type": "code",
   "execution_count": 44,
   "metadata": {},
   "outputs": [
    {
     "name": "stdout",
     "output_type": "stream",
     "text": [
      "City 1    New_York\n",
      "City 2      Lisbon\n",
      "City 3       Tokyo\n",
      "City 4       Paris\n",
      "City 5      Munich\n",
      "dtype: object\n"
     ]
    }
   ],
   "source": [
    "# importing pandas as pd\n",
    "import pandas as pd\n",
    "\n",
    "# importing re for regular expressions\n",
    "import re\n",
    "\n",
    "# Creating the Series\n",
    "sr = pd.Series(['New_York', 'Lisbon', 'Tokyo', 'Paris', 'Munich'])\n",
    "\n",
    "# Creating the index\n",
    "idx = ['City 1', 'City 2', 'City 3', 'City 4', 'City 5']\n",
    "\n",
    "# set the index\n",
    "sr.index = idx\n",
    "\n",
    "# Print the series\n",
    "print(sr)\n"
   ]
  },
  {
   "cell_type": "code",
   "execution_count": 45,
   "metadata": {},
   "outputs": [
    {
     "name": "stdout",
     "output_type": "stream",
     "text": [
      "City 1    False\n",
      "City 2     True\n",
      "City 3    False\n",
      "City 4     True\n",
      "City 5    False\n",
      "dtype: bool\n"
     ]
    }
   ],
   "source": [
    "# find if 'is' substring is present\n",
    "result = sr.str.contains(pat = 'is')\n",
    "\n",
    "# print the result\n",
    "print(result)\n"
   ]
  },
  {
   "cell_type": "markdown",
   "metadata": {},
   "source": [
    "The find() method is similar to index(). The only difference is find() returns -1 if the searched string is not found and index() throws an exception in this case."
   ]
  },
  {
   "cell_type": "code",
   "execution_count": 47,
   "metadata": {},
   "outputs": [
    {
     "name": "stdout",
     "output_type": "stream",
     "text": [
      "Substring 'geeks' found at index: 0\n",
      "Substring 'for ' found at index: 6\n",
      "Doesn't contains given substring\n"
     ]
    }
   ],
   "source": [
    "word = 'geeks for geeks'\n",
    "\n",
    "# returns first occurrence of Substring\n",
    "result = word.find('geeks')\n",
    "print(\"Substring 'geeks' found at index:\", result)\n",
    "\n",
    "result = word.find('for')\n",
    "print(\"Substring 'for ' found at index:\", result)\n",
    "\n",
    "# How to use find()\n",
    "if (word.find('pawan') != -1):\n",
    "    print(\"Contains given substring \")\n",
    "else:\n",
    "    print(\"Doesn't contains given substring\")\n"
   ]
  },
  {
   "cell_type": "markdown",
   "metadata": {},
   "source": [
    "\n",
    "In the first statement, the output is 10 as the start value is given which is 2, so the substring is checked from the second index which is ‘eks for geeks’.\n",
    "In the second statement, the start value is given as 2 and the substring is given ‘geeks’, so the index position of ‘geeks’ is 10 but due to the last value is being excluded it will only find ‘geek’ which doesn’t matches with the original string, that is why the output is -1.\n",
    "In the third statement, start value=4, end value=10, and substring = ‘g’ is given, the index position from 4 will be checked for the given substring which is at position 10, which is being excluded as it is the end index.\n",
    "In the fourth statement, start value =4, end value=11, and substring=’for’ is given, the index position from 4 till 11 will be checked for the given substring and the specified substring is present at index 6, so the output is obtained."
   ]
  },
  {
   "cell_type": "code",
   "execution_count": 48,
   "metadata": {},
   "outputs": [
    {
     "name": "stdout",
     "output_type": "stream",
     "text": [
      "{'emp_id': '1', 'emp_name': 'Rajesh', 'emp_email': 's@gmail.com'}\n",
      "{'emp_id': '2', 'emp_name': 'Karan', 'emp_email': 'a@gmail.com'}\n",
      "{'emp_id': '3', 'emp_name': 'Arushi', 'emp_email': 'nver@gmail.com'}\n"
     ]
    }
   ],
   "source": [
    "# Python program to read\n",
    "# json file\n",
    "\n",
    "\n",
    "import json\n",
    "\n",
    "# Opening JSON file\n",
    "f = open('data.json')\n",
    "\n",
    "# returns JSON object as\n",
    "# a dictionary\n",
    "data = json.load(f)\n",
    "\n",
    "# Iterating through the json\n",
    "# list\n",
    "for i in data['emp_details']:\n",
    "\tprint(i)\n",
    "\n",
    "# Closing file\n",
    "f.close()\n"
   ]
  },
  {
   "cell_type": "code",
   "execution_count": 49,
   "metadata": {},
   "outputs": [
    {
     "name": "stdout",
     "output_type": "stream",
     "text": [
      "JSON string =  {'name': 'Bob', 'languages': 'English'}\n",
      "\n",
      "{'emp_id': '1', 'emp_name': 'Rajesh', 'emp_email': 's@gmail.com'}\n",
      "{'emp_id': '2', 'emp_name': 'Karan', 'emp_email': 'a@gmail.com'}\n",
      "{'emp_id': '3', 'emp_name': 'Arushi', 'emp_email': 'nver@gmail.com'}\n"
     ]
    }
   ],
   "source": [
    "# Python program to read\n",
    "# json file\n",
    "\n",
    "\n",
    "import json\n",
    "\n",
    "\n",
    "# JSON string\n",
    "a = '{\"name\": \"Bob\", \"languages\": \"English\"}'\n",
    "\n",
    "# deserializes into dict\n",
    "# and returns dict.\n",
    "y = json.loads(a)\n",
    "\n",
    "print(\"JSON string = \", y)\n",
    "print()\n",
    "\n",
    "\n",
    "\n",
    "# JSON file\n",
    "f = open ('data.json', \"r\")\n",
    "\n",
    "# Reading from file\n",
    "data = json.loads(f.read())\n",
    "\n",
    "# Iterating through the json\n",
    "# list\n",
    "for i in data['emp_details']:\n",
    "\tprint(i)\n",
    "\n",
    "# Closing file\n",
    "f.close()\n"
   ]
  },
  {
   "cell_type": "markdown",
   "metadata": {},
   "source": [
    "### Reading and writing json"
   ]
  },
  {
   "cell_type": "code",
   "execution_count": 51,
   "metadata": {},
   "outputs": [],
   "source": [
    "# Python program to write JSON\n",
    "# to a file\n",
    "\n",
    "\n",
    "import json\n",
    "\n",
    "# Data to be written\n",
    "dictionary ={\n",
    "\t\"name\" : \"sathiyajith\",\n",
    "\t\"rollno\" : 56,\n",
    "\t\"cgpa\" : 8.6,\n",
    "\t\"phonenumber\" : \"9976770500\"\n",
    "}\n",
    "\n",
    "# Serializing json\n",
    "json_object = json.dumps(dictionary, indent = 4)\n",
    "\n",
    "# Writing to sample.json\n",
    "with open(\"sample.json\", \"w\") as outfile:\n",
    "\toutfile.write(json_object)\n"
   ]
  },
  {
   "cell_type": "code",
   "execution_count": null,
   "metadata": {},
   "outputs": [],
   "source": []
  }
 ],
 "metadata": {
  "kernelspec": {
   "display_name": "Python 3 (ipykernel)",
   "language": "python",
   "name": "python3"
  },
  "language_info": {
   "codemirror_mode": {
    "name": "ipython",
    "version": 3
   },
   "file_extension": ".py",
   "mimetype": "text/x-python",
   "name": "python",
   "nbconvert_exporter": "python",
   "pygments_lexer": "ipython3",
   "version": "3.9.12"
  },
  "vscode": {
   "interpreter": {
    "hash": "a2d461206229cef009f2dd1c94aaea2717ad5fb75b4825ab37017b65c11db84c"
   }
  }
 },
 "nbformat": 4,
 "nbformat_minor": 2
}
